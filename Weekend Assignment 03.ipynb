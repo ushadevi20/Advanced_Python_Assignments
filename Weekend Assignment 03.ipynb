{
 "cells": [
  {
   "cell_type": "code",
   "execution_count": null,
   "metadata": {},
   "outputs": [],
   "source": [
    "#Weekend Assignment03:\n",
    "\n",
    "#Statment 1:"
   ]
  },
  {
   "cell_type": "code",
   "execution_count": 9,
   "metadata": {},
   "outputs": [],
   "source": [
    "river = {\"Nile\":\"Eygpt\", \"Ganga\":\"India\", \"Amazon\":\"Brazil\"}"
   ]
  },
  {
   "cell_type": "code",
   "execution_count": 10,
   "metadata": {},
   "outputs": [],
   "source": [
    "river_items = river.items()"
   ]
  },
  {
   "cell_type": "code",
   "execution_count": 11,
   "metadata": {},
   "outputs": [
    {
     "name": "stdout",
     "output_type": "stream",
     "text": [
      "The Nile river is in Eygpt\n",
      "The Ganga river is in India\n",
      "The Amazon river is in Brazil\n"
     ]
    }
   ],
   "source": [
    "for key,value in river_items:\n",
    "    print(f\"The {key} river is in {value}\")"
   ]
  },
  {
   "cell_type": "code",
   "execution_count": 12,
   "metadata": {},
   "outputs": [
    {
     "name": "stdout",
     "output_type": "stream",
     "text": [
      "The river name is Nile\n",
      "The river name is Ganga\n",
      "The river name is Amazon\n"
     ]
    }
   ],
   "source": [
    "for key in river:\n",
    "    print(f\"The river name is {key}\")"
   ]
  },
  {
   "cell_type": "code",
   "execution_count": 18,
   "metadata": {},
   "outputs": [
    {
     "name": "stdout",
     "output_type": "stream",
     "text": [
      "The name of the country is Eygpt\n",
      "The name of the country is India\n",
      "The name of the country is Brazil\n"
     ]
    }
   ],
   "source": [
    "for key in river:\n",
    "    print(f\"The name of the country is {river[key]}\")"
   ]
  },
  {
   "cell_type": "code",
   "execution_count": null,
   "metadata": {},
   "outputs": [],
   "source": [
    "#Statement 2"
   ]
  },
  {
   "cell_type": "code",
   "execution_count": 34,
   "metadata": {},
   "outputs": [],
   "source": [
    "fav_places = {\"A\":\"Mall\",\"B\":\"Park\",\"C\":\"Beach\"}"
   ]
  },
  {
   "cell_type": "code",
   "execution_count": 31,
   "metadata": {},
   "outputs": [],
   "source": [
    "place_items = fav_places.items()"
   ]
  },
  {
   "cell_type": "code",
   "execution_count": 35,
   "metadata": {},
   "outputs": [
    {
     "name": "stdout",
     "output_type": "stream",
     "text": [
      "A -> Mall\n",
      "B -> Park\n",
      "C -> Beach\n"
     ]
    }
   ],
   "source": [
    "for key in fav_places:\n",
    "    print(key, '->', fav_places[key])"
   ]
  },
  {
   "cell_type": "code",
   "execution_count": 38,
   "metadata": {},
   "outputs": [
    {
     "name": "stdout",
     "output_type": "stream",
     "text": [
      "A's favourite place is Mall\n",
      "B's favourite place is Park\n",
      "C's favourite place is Beach\n"
     ]
    }
   ],
   "source": [
    "for key in fav_places:\n",
    "    print(f\"{key}'s favourite place is {fav_places[key]}\")"
   ]
  },
  {
   "cell_type": "code",
   "execution_count": null,
   "metadata": {},
   "outputs": [],
   "source": []
  },
  {
   "cell_type": "code",
   "execution_count": null,
   "metadata": {},
   "outputs": [],
   "source": []
  },
  {
   "cell_type": "code",
   "execution_count": null,
   "metadata": {},
   "outputs": [],
   "source": []
  }
 ],
 "metadata": {
  "kernelspec": {
   "display_name": "Python 3",
   "language": "python",
   "name": "python3"
  },
  "language_info": {
   "codemirror_mode": {
    "name": "ipython",
    "version": 3
   },
   "file_extension": ".py",
   "mimetype": "text/x-python",
   "name": "python",
   "nbconvert_exporter": "python",
   "pygments_lexer": "ipython3",
   "version": "3.7.4"
  }
 },
 "nbformat": 4,
 "nbformat_minor": 2
}
