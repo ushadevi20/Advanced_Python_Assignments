{
 "cells": [
  {
   "cell_type": "code",
   "execution_count": 33,
   "metadata": {},
   "outputs": [
    {
     "name": "stdout",
     "output_type": "stream",
     "text": [
      "('size is 40', 'message is Fly High')\n"
     ]
    }
   ],
   "source": [
    "def makeshirt(size, message):\n",
    "    first = \"size is {}\".format(size)\n",
    "    second = \"message is {}\".format(message)\n",
    "    return first, second\n",
    "print(makeshirt(40,\"Fly High\"))"
   ]
  },
  {
   "cell_type": "code",
   "execution_count": 53,
   "metadata": {},
   "outputs": [
    {
     "name": "stdout",
     "output_type": "stream",
     "text": [
      "('size is 30', 'message is Feel Good')\n"
     ]
    }
   ],
   "source": [
    "def key(size,message):\n",
    "    first = \"size is {}\".format(size)\n",
    "    second = \"message is {}\".format(message)\n",
    "    return first, second\n",
    "\n",
    "print(key(30, \"Feel Good\"))\n"
   ]
  },
  {
   "cell_type": "code",
   "execution_count": null,
   "metadata": {},
   "outputs": [],
   "source": [
    "# Large Shirts:"
   ]
  },
  {
   "cell_type": "code",
   "execution_count": 65,
   "metadata": {},
   "outputs": [
    {
     "name": "stdout",
     "output_type": "stream",
     "text": [
      "I Love Python\n",
      "I love coding\n",
      "Learn New Skills\n"
     ]
    }
   ],
   "source": [
    "shirts = {'L':'I Love Python', 'M':'I love coding', 'O':'Learn New Skills'}\n",
    "\n",
    "print(shirts['L'])\n",
    "print(shirts['M'])\n",
    "print(shirts['O'])"
   ]
  },
  {
   "cell_type": "code",
   "execution_count": null,
   "metadata": {},
   "outputs": [],
   "source": []
  },
  {
   "cell_type": "code",
   "execution_count": null,
   "metadata": {},
   "outputs": [],
   "source": []
  },
  {
   "cell_type": "code",
   "execution_count": null,
   "metadata": {},
   "outputs": [],
   "source": []
  },
  {
   "cell_type": "code",
   "execution_count": null,
   "metadata": {},
   "outputs": [],
   "source": []
  },
  {
   "cell_type": "code",
   "execution_count": null,
   "metadata": {},
   "outputs": [],
   "source": []
  },
  {
   "cell_type": "code",
   "execution_count": null,
   "metadata": {},
   "outputs": [],
   "source": []
  },
  {
   "cell_type": "code",
   "execution_count": null,
   "metadata": {},
   "outputs": [],
   "source": []
  }
 ],
 "metadata": {
  "kernelspec": {
   "display_name": "Python 3",
   "language": "python",
   "name": "python3"
  },
  "language_info": {
   "codemirror_mode": {
    "name": "ipython",
    "version": 3
   },
   "file_extension": ".py",
   "mimetype": "text/x-python",
   "name": "python",
   "nbconvert_exporter": "python",
   "pygments_lexer": "ipython3",
   "version": "3.7.4"
  }
 },
 "nbformat": 4,
 "nbformat_minor": 2
}
