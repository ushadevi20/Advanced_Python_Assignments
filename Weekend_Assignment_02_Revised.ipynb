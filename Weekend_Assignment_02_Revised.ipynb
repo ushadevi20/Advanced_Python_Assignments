{
 "cells": [
  {
   "cell_type": "code",
   "execution_count": null,
   "metadata": {},
   "outputs": [],
   "source": []
  },
  {
   "cell_type": "code",
   "execution_count": null,
   "metadata": {},
   "outputs": [],
   "source": [
    "#T Shirt"
   ]
  },
  {
   "cell_type": "code",
   "execution_count": 5,
   "metadata": {},
   "outputs": [],
   "source": [
    "def make_shirt(shirt_size,shirt_message):\n",
    "    \"\"\"creating a function to describe the details of the shirt\"\"\"\n",
    "    print(f\"Shirt size is {shirt_size}\")\n",
    "    print(f\"Shirt {shirt_size} size is printed with the message {shirt_message}\")"
   ]
  },
  {
   "cell_type": "code",
   "execution_count": 6,
   "metadata": {},
   "outputs": [
    {
     "name": "stdout",
     "output_type": "stream",
     "text": [
      "Shirt size is M\n",
      "Shirt M size is printed with the message Fly High\n"
     ]
    }
   ],
   "source": [
    "make_shirt('M','Fly High')"
   ]
  },
  {
   "cell_type": "code",
   "execution_count": null,
   "metadata": {},
   "outputs": [],
   "source": []
  },
  {
   "cell_type": "code",
   "execution_count": 8,
   "metadata": {},
   "outputs": [
    {
     "name": "stdout",
     "output_type": "stream",
     "text": [
      "Shirt size is Medium\n",
      "Shirt Medium size is printed with the message Feel Good\n"
     ]
    }
   ],
   "source": [
    "make_shirt(shirt_message='Feel Good',shirt_size='Medium') --> #Key word Argument"
   ]
  },
  {
   "cell_type": "code",
   "execution_count": null,
   "metadata": {},
   "outputs": [],
   "source": [
    "# Large Shirts:"
   ]
  },
  {
   "cell_type": "code",
   "execution_count": 115,
   "metadata": {},
   "outputs": [],
   "source": [
    "def make_shirt(other_sizes,medium_shirt=\"I love coding\",large_shirt=\"I love python\"):\n",
    "    \"\"\"creating a function to describe the details of message\"\"\"\n",
    "    print(f\"Shirt L size to be printed with the message, {large_shirt}\")\n",
    "    print(f\"Shirt M size to be printed with the message, {medium_shirt}\")\n",
    "    print(f\"Shirt Other sizes should be {other_sizes}\")"
   ]
  },
  {
   "cell_type": "code",
   "execution_count": 116,
   "metadata": {},
   "outputs": [
    {
     "name": "stdout",
     "output_type": "stream",
     "text": [
      "Shirt L size to be printed with the message, I love python\n",
      "Shirt M size to be printed with the message, I love coding\n",
      "Shirt Other sizes should be Blank\n"
     ]
    }
   ],
   "source": [
    "make_shirt('Blank','I love coding')"
   ]
  },
  {
   "cell_type": "code",
   "execution_count": 46,
   "metadata": {},
   "outputs": [
    {
     "name": "stdout",
     "output_type": "stream",
     "text": [
      "Shirt Large size to be printed with the message, I love python\n",
      "Shirt Medium size to be printed with the message, explore new\n",
      "Shirt Other sizes should be Learn new skills\n"
     ]
    }
   ],
   "source": [
    "make_shirt('Learn new skills', 'explore new')"
   ]
  },
  {
   "cell_type": "code",
   "execution_count": null,
   "metadata": {},
   "outputs": [],
   "source": []
  },
  {
   "cell_type": "code",
   "execution_count": null,
   "metadata": {},
   "outputs": [],
   "source": [
    "# Cities:"
   ]
  },
  {
   "cell_type": "code",
   "execution_count": 104,
   "metadata": {},
   "outputs": [],
   "source": [
    "def describe_city(city_1,city_2,city_3,country_name='Italy',country='India'):\n",
    "    \"\"\"creating a function\"\"\"\n",
    "    print(f\" {city_1} is in {country}\")\n",
    "    print(f\" {city_2} is in {country_name}\")\n",
    "    print(f\" {city_3} is in {country_name}\")"
   ]
  },
  {
   "cell_type": "code",
   "execution_count": 105,
   "metadata": {},
   "outputs": [
    {
     "name": "stdout",
     "output_type": "stream",
     "text": [
      " Delhi is in India\n",
      " Rome is in Italy\n",
      " Venice is in Italy\n"
     ]
    }
   ],
   "source": [
    "describe_city('Delhi','Rome','Venice')"
   ]
  },
  {
   "cell_type": "code",
   "execution_count": null,
   "metadata": {},
   "outputs": [],
   "source": []
  },
  {
   "cell_type": "code",
   "execution_count": 110,
   "metadata": {},
   "outputs": [],
   "source": [
    "def describe_city(city_1,city_2,city_3,country_name='Australia',country='Japan'):\n",
    "    \"\"\"creating a function\"\"\"\n",
    "    print(f\" {city_1} is in {country}\")\n",
    "    print(f\" {city_2} is in {country_name}\")\n",
    "    print(f\" {city_3} is in {country_name}\")"
   ]
  },
  {
   "cell_type": "code",
   "execution_count": 111,
   "metadata": {},
   "outputs": [
    {
     "name": "stdout",
     "output_type": "stream",
     "text": [
      " Tokyo is in Japan\n",
      " Melbourne is in Australia\n",
      " Sydney is in Australia\n"
     ]
    }
   ],
   "source": [
    "describe_city('Tokyo','Melbourne','Sydney')"
   ]
  },
  {
   "cell_type": "code",
   "execution_count": null,
   "metadata": {},
   "outputs": [],
   "source": []
  },
  {
   "cell_type": "code",
   "execution_count": null,
   "metadata": {},
   "outputs": [],
   "source": []
  }
 ],
 "metadata": {
  "kernelspec": {
   "display_name": "Python 3",
   "language": "python",
   "name": "python3"
  },
  "language_info": {
   "codemirror_mode": {
    "name": "ipython",
    "version": 3
   },
   "file_extension": ".py",
   "mimetype": "text/x-python",
   "name": "python",
   "nbconvert_exporter": "python",
   "pygments_lexer": "ipython3",
   "version": "3.7.4"
  }
 },
 "nbformat": 4,
 "nbformat_minor": 2
}
